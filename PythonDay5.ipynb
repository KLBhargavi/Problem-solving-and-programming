{
 "cells": [
  {
   "cell_type": "markdown",
   "metadata": {},
   "source": [
    "# Problem Solving and Programming\n",
    "\n",
    "# Koduganti Lakshmi Bhargavi\n",
    "\n",
    "## Day No:- 5\n",
    "\n",
    "## Date :- 12/5/2019"
   ]
  },
  {
   "cell_type": "markdown",
   "metadata": {},
   "source": [
    "## Problem 1\n",
    "\n",
    "### Problem Statement\n",
    "\n",
    "\n",
    "### Constraints\n",
    "\n",
    "### Test Cases\n",
    "\n",
    "     Test Case 1-\n",
    "     Test Case 2-\n",
    "     Test Case 3-"
   ]
  },
  {
   "cell_type": "markdown",
   "metadata": {},
   "source": [
    "## Problem 1\n",
    "\n",
    "### Problem Statement\n",
    "Design a procedure to determine if a given string is a Palindrome\n",
    "\n",
    "### Constraints\n",
    "\n",
    "### Test Cases\n",
    "\n",
    "     Test Case 1-Palindrome(\"racecar\") -> True\n",
    "     Test Case 2-Palindrome(\"raptor\") -> False"
   ]
  },
  {
   "cell_type": "code",
   "execution_count": 39,
   "metadata": {},
   "outputs": [
    {
     "name": "stdout",
     "output_type": "stream",
     "text": [
      "True\n",
      "False\n",
      "True\n",
      "True\n",
      "True\n"
     ]
    }
   ],
   "source": [
    "def Palindrome(string):\n",
    "    a= string\n",
    "    b=''\n",
    "    for i in range(len(a)-1,-1,-1):\n",
    "        b+=a[i]\n",
    "    if a==b:\n",
    "        return ('True')\n",
    "    return ('False')\n",
    "   \n",
    "print(Palindrome(\"racecar\"))\n",
    "print(Palindrome(\"raptor\"))\n",
    "print(Palindrome(\"123454321\"))\n",
    "print(Palindrome(\"dad\"))\n",
    "print(Palindrome(\"mom\"))\n",
    "        \n",
    "    "
   ]
  },
  {
   "cell_type": "markdown",
   "metadata": {},
   "source": [
    "## Problem 2\n",
    "\n",
    "### Problem Statement\n",
    "Design a procedure to calculate the squareroot of a number \"without using the math function sqrt\".\n",
    "### Constraints\n",
    "\n",
    "### Test Cases\n",
    "\n",
    "     Test Case 1-Squareroot(36) -> 6"
   ]
  },
  {
   "cell_type": "code",
   "execution_count": 10,
   "metadata": {},
   "outputs": [
    {
     "name": "stdout",
     "output_type": "stream",
     "text": [
      "6.0\n",
      "2.0\n"
     ]
    }
   ],
   "source": [
    "def Squareroot(n):\n",
    "    a=n**0.5\n",
    "    return a\n",
    "print(Squareroot(36))\n",
    "print(Squareroot(4))"
   ]
  },
  {
   "cell_type": "markdown",
   "metadata": {},
   "source": [
    "## Problem 3\n",
    "\n",
    "### Problem Statement\n",
    "Design a procedure to determine the frequency count of numbers in a given list\n",
    "\n",
    "### Constraints\n",
    "\n",
    "### Test Cases\n",
    "\n",
    "     Test Case 1-Frequency( a[1,3,2,1] ) -> 1 : 2, 2 : 1, 3 : 1"
   ]
  },
  {
   "cell_type": "code",
   "execution_count": 12,
   "metadata": {},
   "outputs": [],
   "source": [
    "def Frequency(a):\n",
    "    a=[]\n",
    "    for i in range[0,len(a)]:\n",
    "        a[i]=b[i]\n",
    "        \n",
    "    "
   ]
  },
  {
   "cell_type": "markdown",
   "metadata": {},
   "source": [
    "## Problem 4\n",
    "\n",
    "### Problem Statement\n",
    "Generating the nth Fibonacci number\n",
    "\n",
    "\n",
    "### Constraints\n",
    "\n",
    "### Test Cases\n",
    "\n",
    "     Test Case 1-Fibonacci(3)->1"
   ]
  },
  {
   "cell_type": "code",
   "execution_count": 19,
   "metadata": {},
   "outputs": [
    {
     "name": "stdout",
     "output_type": "stream",
     "text": [
      "1\n"
     ]
    }
   ],
   "source": [
    "def Fibonacci(n):\n",
    "    if(n<=1):\n",
    "        return n\n",
    "    else:\n",
    "        return(Fibonacci(n-2)+Fibonacci(n-3))\n",
    "    \n",
    "    \n",
    "print(Fibonacci(3))"
   ]
  },
  {
   "cell_type": "markdown",
   "metadata": {},
   "source": [
    "## Problem 5\n",
    "\n",
    "### Problem Statement\n",
    "Define a function to identity the number of times a substring is repeating in a given string\n",
    "\n",
    "### Constraints\n",
    "\n",
    "### Test Cases\n",
    "\n",
    "     Test Case 1-substringCount('str', 'substr') -> 1\n",
    "     Test Case 2-substringCount('1234567891122334455', '3') -> 3    \n",
    "     Test Case 3-substringCount('abccddccc', 'cc') -> 3\n",
    "     Test case 4-substringCount('aaaaaaa', 'aaa' ) -> 5"
   ]
  },
  {
   "cell_type": "code",
   "execution_count": 20,
   "metadata": {},
   "outputs": [
    {
     "ename": "SyntaxError",
     "evalue": "invalid syntax (<ipython-input-20-e0c2a9dcbda0>, line 2)",
     "output_type": "error",
     "traceback": [
      "\u001b[1;36m  File \u001b[1;32m\"<ipython-input-20-e0c2a9dcbda0>\"\u001b[1;36m, line \u001b[1;32m2\u001b[0m\n\u001b[1;33m    str a\u001b[0m\n\u001b[1;37m        ^\u001b[0m\n\u001b[1;31mSyntaxError\u001b[0m\u001b[1;31m:\u001b[0m invalid syntax\n"
     ]
    }
   ],
   "source": [
    "def substringCount(a,b):\n",
    "    a=[]\n",
    "    b=[]\n",
    "    count=0\n",
    "    for i in range(0,len(a)):\n",
    "        for b in range(0,len(b)):\n",
    "            if a[:]==b:\n",
    "                count=count+1\n",
    "    return count\n",
    "\n",
    "print(substringCount('substr','str')            "
   ]
  }
 ],
 "metadata": {
  "kernelspec": {
   "display_name": "Python 3",
   "language": "python",
   "name": "python3"
  },
  "language_info": {
   "codemirror_mode": {
    "name": "ipython",
    "version": 3
   },
   "file_extension": ".py",
   "mimetype": "text/x-python",
   "name": "python",
   "nbconvert_exporter": "python",
   "pygments_lexer": "ipython3",
   "version": "3.7.3"
  }
 },
 "nbformat": 4,
 "nbformat_minor": 2
}
