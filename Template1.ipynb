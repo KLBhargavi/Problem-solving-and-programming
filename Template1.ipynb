{
 "cells": [
  {
   "cell_type": "markdown",
   "metadata": {},
   "source": [
    "# Problem solving and programming\n",
    "## Name- Koduganti Lakshmi Bhargavi\n",
    "## Day no. 10\n",
    "## Date- 8th May 2019\n"
   ]
  },
  {
   "cell_type": "markdown",
   "metadata": {},
   "source": [
    "## Day objectives\n",
    "  * Objective 1 : \n",
    "  * Objective 2 :\n",
    "  * Objective 3 :"
   ]
  },
  {
   "cell_type": "markdown",
   "metadata": {},
   "source": [
    "### Problem 1 \n",
    "### Problem statement : For a given number, define a function to check if it is divisible by 2 and 3 but not 4. \n",
    "### Constraints(range of values we can give for the given number) : Given number will be in the range [1 to 100000000000000000000000000000]\n",
    "##### Test cases\n",
    " * Test case 1 - checkdivisibility(6)---> True\n",
    " * Test Case 2 - checkdivisibility(16)--> False\n",
    " * Test case 3 - checkdivisibility(20)--> False\n",
    " "
   ]
  },
  {
   "cell_type": "code",
   "execution_count": 31,
   "metadata": {},
   "outputs": [
    {
     "data": {
      "text/plain": [
       "False"
      ]
     },
     "execution_count": 31,
     "metadata": {},
     "output_type": "execute_result"
    }
   ],
   "source": [
    "def checkdivisibility(n):\n",
    "    if (n%2==0 and n%3==0 and n%4!=0):\n",
    "      return True\n",
    "    else:\n",
    "      return False\n",
    "checkdivisibility(20)"
   ]
  },
  {
   "cell_type": "code",
   "execution_count": null,
   "metadata": {},
   "outputs": [],
   "source": []
  },
  {
   "cell_type": "code",
   "execution_count": null,
   "metadata": {},
   "outputs": [],
   "source": []
  },
  {
   "cell_type": "code",
   "execution_count": null,
   "metadata": {},
   "outputs": [],
   "source": []
  }
 ],
 "metadata": {
  "kernelspec": {
   "display_name": "Python 3",
   "language": "python",
   "name": "python3"
  },
  "language_info": {
   "codemirror_mode": {
    "name": "ipython",
    "version": 3
   },
   "file_extension": ".py",
   "mimetype": "text/x-python",
   "name": "python",
   "nbconvert_exporter": "python",
   "pygments_lexer": "ipython3",
   "version": "3.7.3"
  }
 },
 "nbformat": 4,
 "nbformat_minor": 2
}
