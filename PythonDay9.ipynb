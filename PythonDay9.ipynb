{
 "cells": [
  {
   "cell_type": "markdown",
   "metadata": {},
   "source": [
    "# Problem solving and programming\n",
    "## Koduganti Lakshmi Bhargavi\n",
    "## Day 17\n",
    "## 16th May,2019"
   ]
  },
  {
   "cell_type": "markdown",
   "metadata": {},
   "source": [
    "## Problem 1\n",
    "\n",
    "### Problem statement\n",
    "To read data from a file and print that data.\n"
   ]
  },
  {
   "cell_type": "code",
   "execution_count": 13,
   "metadata": {},
   "outputs": [
    {
     "name": "stdout",
     "output_type": "stream",
     "text": [
      "HEY THERE!!!\n",
      "YOU DID IT!!!\n",
      "YAHOO!!\n",
      "\n",
      "IM BHARGAVI FROM ANOTHER PLANET\n"
     ]
    }
   ],
   "source": [
    "def readFileData(filename):\n",
    "    with open(filename,'r') as f:\n",
    "        #for line in f:\n",
    "            #print(line,end=' ')\n",
    "        print(f.read())\n",
    "    return\n",
    "readFileData('DataFiles/data.txt')\n",
    "readFileData('DataFiles/filewr.txt')"
   ]
  },
  {
   "cell_type": "markdown",
   "metadata": {},
   "source": [
    "## Problem 2\n",
    "\n",
    "### Problem statement\n",
    "To write data into an existing file."
   ]
  },
  {
   "cell_type": "code",
   "execution_count": 14,
   "metadata": {},
   "outputs": [],
   "source": [
    "def FileWrite(filename,data):\n",
    "    with open(filename,'w') as f:\n",
    "        f.write(data)\n",
    "    return\n",
    "FileWrite('DataFiles/filewr.txt',\"IM BHARGAVI FROM ANOTHER PLANET\")\n",
    "    "
   ]
  },
  {
   "cell_type": "markdown",
   "metadata": {},
   "source": [
    "## Problem 3\n",
    "\n",
    "### Problem statement\n",
    "To write data into the next line into an already existing file."
   ]
  },
  {
   "cell_type": "code",
   "execution_count": 27,
   "metadata": {},
   "outputs": [],
   "source": [
    "def FileWrite(filename,data,mode):\n",
    "    with open(filename,mode) as f:\n",
    "        f.write(data)\n",
    "    return\n",
    "FileWrite('DataFiles/filewr.txt','\\nalien','a')\n",
    "    "
   ]
  },
  {
   "cell_type": "markdown",
   "metadata": {},
   "source": [
    "## Problem 4\n",
    "\n",
    "### Problem Statement\n",
    "Define a function to generate a marks data file(text file) for 1300 students such that each mark is entered in a new line.Marks range from 0 to 100(inclusive).\n",
    "\n",
    "### Test cases\n",
    "     Test case 1-\n",
    "     Test case 2-\n",
    "   "
   ]
  },
  {
   "cell_type": "code",
   "execution_count": 66,
   "metadata": {},
   "outputs": [],
   "source": [
    "import random\n",
    "def generatemarks(studentnum,filename):\n",
    "    with open(filename,'w') as marksfile:\n",
    "        for i in range(0,studentnum):\n",
    "            marks=random.randint(0,100)\n",
    "            marksfile.write(str(marks)+'\\n')\n",
    "        return\n",
    "generatemarks(1300,'DataFiles/Marksdata.txt')"
   ]
  },
  {
   "cell_type": "markdown",
   "metadata": {},
   "source": [
    "## Problem 5\n",
    "\n",
    "### Problem Statement\n",
    "Generate a report on the marks data with the following indicators\n",
    "*Highest mark\n",
    "*Lowest Mark\n",
    "*Average\n",
    "*No. of students with distinction\n",
    "*No. of students with first class(>70)\n",
    "*No. of students with second class(>60)\n",
    "*No. of students with third class(>40)\n",
    "*No. of students failed(<40)\n",
    "\n",
    "   "
   ]
  },
  {
   "cell_type": "code",
   "execution_count": 74,
   "metadata": {},
   "outputs": [
    {
     "name": "stdout",
     "output_type": "stream",
     "text": [
      "Highest Mark= 100\n",
      "Lowest Mark= 0\n",
      "Average= 50.0\n",
      "Number of distinction students(>80)= 239\n",
      "Number of first class students(>70)= 132\n",
      "Number of second class students(>60)= 134\n",
      "Number of third class students(>40)= 267\n",
      "Number of failed students(<40)=  528\n"
     ]
    },
    {
     "data": {
      "text/plain": [
       "0.0018820260011125356"
      ]
     },
     "execution_count": 74,
     "metadata": {},
     "output_type": "execute_result"
    }
   ],
   "source": [
    "import timeit\n",
    "def readfile(filename):\n",
    "    start=timeit.default_timer()\n",
    "    li=[]\n",
    "    with open(filename,'r') as f:\n",
    "        for line in f:\n",
    "            li.append(int(line))\n",
    "    #print(li)\n",
    "    maximum=max(li)\n",
    "    minimum=min(li)\n",
    "    print(\"Highest Mark=\",maximum)\n",
    "    print(\"Lowest Mark=\",minimum)\n",
    "    print(\"Average=\",(maximum+minimum)/2)\n",
    "    dist=0\n",
    "    fc=0\n",
    "    sc=0\n",
    "    tc=0\n",
    "    fail=0\n",
    "    for i in range(0,1300):\n",
    "        if li[i]>80:\n",
    "            dist+=1\n",
    "        elif li[i]>70:\n",
    "            fc+=1\n",
    "        elif li[i]>60:\n",
    "            sc+=1\n",
    "        elif li[i]>40:\n",
    "            tc+=1\n",
    "        else:\n",
    "            fail+=1\n",
    "    print(\"Number of distinction students(>80)=\",dist)\n",
    "    print(\"Number of first class students(>70)=\",fc)\n",
    "    print(\"Number of second class students(>60)=\",sc)\n",
    "    print(\"Number of third class students(>40)=\",tc)\n",
    "    print(\"Number of failed students(<40)= \",fail)\n",
    "    return timeit.default_timer()-start\n",
    "readfile('DataFiles/Marksdata.txt')"
   ]
  }
 ],
 "metadata": {
  "kernelspec": {
   "display_name": "Python 3",
   "language": "python",
   "name": "python3"
  },
  "language_info": {
   "codemirror_mode": {
    "name": "ipython",
    "version": 3
   },
   "file_extension": ".py",
   "mimetype": "text/x-python",
   "name": "python",
   "nbconvert_exporter": "python",
   "pygments_lexer": "ipython3",
   "version": "3.7.3"
  }
 },
 "nbformat": 4,
 "nbformat_minor": 2
}
