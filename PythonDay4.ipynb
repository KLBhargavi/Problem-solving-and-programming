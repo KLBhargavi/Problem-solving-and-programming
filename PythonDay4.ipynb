{
 "cells": [
  {
   "cell_type": "markdown",
   "metadata": {},
   "source": [
    "# Problem Solving and Programming\n",
    "\n",
    "# Koduganti Lakshmi Bhargavi\n",
    "\n",
    "## Day No:- 13\n",
    "\n",
    "## Date :- 11/5/2019"
   ]
  },
  {
   "cell_type": "markdown",
   "metadata": {},
   "source": [
    "## Problem 1\n",
    "\n",
    "### Problem Statement\n",
    "\n",
    "### Constraints\n",
    "\n",
    "\n",
    "### Test Cases\n",
    "    Test case 1 - \n",
    "    Test case 2 - \n",
    "    Test case 3 - \n"
   ]
  },
  {
   "cell_type": "markdown",
   "metadata": {},
   "source": [
    "## Problem 1\n",
    "\n",
    "### Problem Statement\n",
    "\n",
    "Procedure to check if a given number is Prime and returns a Boolean value.\n",
    "\n",
    "\n",
    "#### Test Cases\n",
    "\n",
    "* Test Case 1-  IsPrime(7) -> True\n",
    "\n",
    "* Test Case 2-  IsPrime(9) ->  False\n"
   ]
  },
  {
   "cell_type": "code",
   "execution_count": 35,
   "metadata": {},
   "outputs": [
    {
     "name": "stdout",
     "output_type": "stream",
     "text": [
      "True\n",
      "False\n",
      "True\n"
     ]
    }
   ],
   "source": [
    "def IsPrime(n):\n",
    "    count=0\n",
    "    for i in range(1,n+1):\n",
    "        if n%i==0:\n",
    "            count=count+1\n",
    "    if count>2:\n",
    "        return ('False')\n",
    "    else:\n",
    "        return ('True')\n",
    "print(IsPrime(7))\n",
    "print(IsPrime(9))\n",
    "print(IsPrime(97))"
   ]
  },
  {
   "cell_type": "markdown",
   "metadata": {},
   "source": [
    "## Problem 2\n",
    "\n",
    "### Problem Statement\n",
    "Procedure to count the number of digits in a given number.\n",
    "\n",
    "### Constraints\n",
    "\n",
    "\n",
    "### Test Cases\n",
    "    Test case 1 -  CountDigits(123456) ->  6\n",
    "    Test case 2 -  CountDigits (0) ->  1 "
   ]
  },
  {
   "cell_type": "code",
   "execution_count": 66,
   "metadata": {},
   "outputs": [
    {
     "name": "stdout",
     "output_type": "stream",
     "text": [
      "6\n",
      "1\n"
     ]
    }
   ],
   "source": [
    "def CountDigits(n):\n",
    "    a=len(str(n))\n",
    "    return a\n",
    "#     for count in range(0,len(str(n))):\n",
    "#         n = abs(n/10)\n",
    "#         count=count+1\n",
    "#     return count\n",
    "print(CountDigits(123456))\n",
    "print(CountDigits(0))"
   ]
  },
  {
   "cell_type": "markdown",
   "metadata": {},
   "source": [
    "## Problem 3\n",
    "\n",
    "### Problem Statement\n",
    " Procedure to check if a given number is a Perfect Number. ( Perfect number is a number for which the sum of all it's divisors is equal to the number itself)\n",
    "\n",
    "\n",
    "\n",
    "### Constraints\n",
    "\n",
    "\n",
    "### Test Cases\n",
    "    Test case 1 -  IsPerfect(3) -> False\n",
    "    Test case 2 -  IsPerfect (6) -> True\n"
   ]
  },
  {
   "cell_type": "code",
   "execution_count": 115,
   "metadata": {},
   "outputs": [
    {
     "name": "stdout",
     "output_type": "stream",
     "text": [
      "False\n",
      "True\n"
     ]
    }
   ],
   "source": [
    "def IsPerfect(n):\n",
    "#     psum=0\n",
    "#     for i in range (1,n):\n",
    "#         if n%i==0:\n",
    "#             psum = psum+i\n",
    "#     if n==psum:\n",
    "#         return True\n",
    "    \n",
    "#     else:\n",
    "#         return False\n",
    "            \n",
    "    a=[]\n",
    "    for i in range(1,n):\n",
    "        if n%i==0:\n",
    "            a.append(i)\n",
    "\n",
    "    if sum(a)==n:\n",
    "        return ('True')\n",
    "    else:\n",
    "        return ('False')\n",
    "print(IsPerfect(3))\n",
    "print(IsPerfect(6))"
   ]
  },
  {
   "cell_type": "markdown",
   "metadata": {},
   "source": [
    "## Problem 4\n",
    "\n",
    "### Problem Statement\n",
    "Procedure to generate the first N perfect numbers. \n",
    "\n",
    "### Constraints\n",
    "\n",
    "\n",
    "### Test Cases\n",
    "    Test case 1 - GeneratePerfect(2) ->  6   28\n",
    "    Test case 2 - GeneratePerfect (4) ->  6   28   496    8128\n",
    "   \n"
   ]
  },
  {
   "cell_type": "code",
   "execution_count": 178,
   "metadata": {},
   "outputs": [
    {
     "ename": "TypeError",
     "evalue": "object of type 'int' has no len()",
     "output_type": "error",
     "traceback": [
      "\u001b[1;31m---------------------------------------------------------------------------\u001b[0m",
      "\u001b[1;31mTypeError\u001b[0m                                 Traceback (most recent call last)",
      "\u001b[1;32m<ipython-input-178-04a0ea20c4f0>\u001b[0m in \u001b[0;36m<module>\u001b[1;34m\u001b[0m\n\u001b[0;32m     10\u001b[0m             \u001b[0mb\u001b[0m\u001b[1;33m.\u001b[0m\u001b[0mappend\u001b[0m\u001b[1;33m(\u001b[0m\u001b[0mm\u001b[0m\u001b[1;33m)\u001b[0m\u001b[1;33m\u001b[0m\u001b[1;33m\u001b[0m\u001b[0m\n\u001b[0;32m     11\u001b[0m     \u001b[1;32mreturn\u001b[0m \u001b[0mb\u001b[0m\u001b[1;33m\u001b[0m\u001b[1;33m\u001b[0m\u001b[0m\n\u001b[1;32m---> 12\u001b[1;33m \u001b[0mprint\u001b[0m\u001b[1;33m(\u001b[0m\u001b[0mGeneratePerfect\u001b[0m\u001b[1;33m(\u001b[0m\u001b[1;36m2\u001b[0m\u001b[1;33m)\u001b[0m\u001b[1;33m)\u001b[0m\u001b[1;33m\u001b[0m\u001b[1;33m\u001b[0m\u001b[0m\n\u001b[0m\u001b[0;32m     13\u001b[0m \u001b[0mprint\u001b[0m\u001b[1;33m(\u001b[0m\u001b[0mGeneratePerfect\u001b[0m\u001b[1;33m(\u001b[0m\u001b[1;36m4\u001b[0m\u001b[1;33m)\u001b[0m\u001b[1;33m)\u001b[0m\u001b[1;33m\u001b[0m\u001b[1;33m\u001b[0m\u001b[0m\n",
      "\u001b[1;32m<ipython-input-178-04a0ea20c4f0>\u001b[0m in \u001b[0;36mGeneratePerfect\u001b[1;34m(n)\u001b[0m\n\u001b[0;32m      3\u001b[0m     \u001b[0mb\u001b[0m\u001b[1;33m=\u001b[0m\u001b[1;33m[\u001b[0m\u001b[1;33m]\u001b[0m\u001b[1;33m\u001b[0m\u001b[1;33m\u001b[0m\u001b[0m\n\u001b[0;32m      4\u001b[0m     \u001b[0mi\u001b[0m\u001b[1;33m=\u001b[0m\u001b[1;36m1\u001b[0m\u001b[1;33m\u001b[0m\u001b[1;33m\u001b[0m\u001b[0m\n\u001b[1;32m----> 5\u001b[1;33m     \u001b[1;32mwhile\u001b[0m\u001b[1;33m(\u001b[0m\u001b[0mi\u001b[0m\u001b[1;33m<\u001b[0m\u001b[0mlen\u001b[0m\u001b[1;33m(\u001b[0m\u001b[0mn\u001b[0m\u001b[1;33m)\u001b[0m\u001b[1;33m)\u001b[0m\u001b[1;33m:\u001b[0m\u001b[1;33m\u001b[0m\u001b[1;33m\u001b[0m\u001b[0m\n\u001b[0m\u001b[0;32m      6\u001b[0m         \u001b[1;32mif\u001b[0m \u001b[0mk\u001b[0m\u001b[1;33m%\u001b[0m\u001b[0mi\u001b[0m\u001b[1;33m==\u001b[0m\u001b[1;36m0\u001b[0m\u001b[1;33m:\u001b[0m\u001b[1;33m\u001b[0m\u001b[1;33m\u001b[0m\u001b[0m\n\u001b[0;32m      7\u001b[0m             \u001b[0ma\u001b[0m\u001b[1;33m.\u001b[0m\u001b[0mappend\u001b[0m\u001b[1;33m(\u001b[0m\u001b[0mi\u001b[0m\u001b[1;33m)\u001b[0m\u001b[1;33m\u001b[0m\u001b[1;33m\u001b[0m\u001b[0m\n",
      "\u001b[1;31mTypeError\u001b[0m: object of type 'int' has no len()"
     ]
    }
   ],
   "source": [
    "def GeneratePerfect(n):\n",
    "    a=[]\n",
    "    b=[]\n",
    "    i=1\n",
    "    while(i<len(n)):\n",
    "        if k%i==0:\n",
    "            a.append(i)\n",
    "    if sum(a)==m:\n",
    "        for j in range(1,n+1):\n",
    "            b.append(m)\n",
    "    return b\n",
    "print(GeneratePerfect(2))\n",
    "print(GeneratePerfect(4))"
   ]
  },
  {
   "cell_type": "markdown",
   "metadata": {},
   "source": [
    "## Problem 5\n",
    "\n",
    "### Problem Statement\n",
    "Design a procedure calculate the maximum, minimum and average of N numbers\n",
    "\n",
    "\n",
    "\n",
    "### Test Cases\n",
    "    Test case 1 - data( a[1,2,3,4,5] ) -> Max = 5, Min = 1, Avg = 3"
   ]
  },
  {
   "cell_type": "code",
   "execution_count": 246,
   "metadata": {},
   "outputs": [],
   "source": [
    "def data(a):\n",
    "    max=a[1]\n",
    "    min=a[1]\n",
    "    sum=0\n",
    "    for i in range(1,len(a)):\n",
    "        if a[i]>max:\n",
    "            max=a[i]\n",
    "            sum=sum+a[i]\n",
    "        if a[i]<min:\n",
    "            min=a[i]\n",
    "            avg=(sum/len(a))\n",
    "    print('max=',max)\n",
    "    print('min=',min)\n",
    "    avg=(sum/len(a))\n",
    "    return avg\n",
    "\n",
    "    "
   ]
  }
 ],
 "metadata": {
  "kernelspec": {
   "display_name": "Python 3",
   "language": "python",
   "name": "python3"
  },
  "language_info": {
   "codemirror_mode": {
    "name": "ipython",
    "version": 3
   },
   "file_extension": ".py",
   "mimetype": "text/x-python",
   "name": "python",
   "nbconvert_exporter": "python",
   "pygments_lexer": "ipython3",
   "version": "3.7.3"
  }
 },
 "nbformat": 4,
 "nbformat_minor": 2
}
