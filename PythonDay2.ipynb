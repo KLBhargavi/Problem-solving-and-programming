{
 "cells": [
  {
   "cell_type": "markdown",
   "metadata": {},
   "source": [
    "# PROBLEM SOLVING AND PROGRAMMING\\\n",
    "\n",
    "# KODUGANTI LAKSHMI BHARGAVI\n",
    "\n",
    "## Day no. 11\n",
    "\n",
    "## 2210416133\n",
    "\n",
    "## Date 9th May 2019\n"
   ]
  },
  {
   "cell_type": "markdown",
   "metadata": {},
   "source": [
    "## Problem 1\n",
    "\n",
    "### Problem statement \n",
    "Given 2 int values, return True if one parameter is negative and one parameter is positive. Except if the third parameter is true, then return True only if bfirst two parameters are negative.\n",
    "\n",
    "### Constraints \n",
    "     1st parameter-any integer\n",
    "     2nd parameter-any integer\n",
    "     3rd parameter-boolean value\n",
    "\n",
    "### Test cases\n",
    "    Test case 1 pos_neg(1, -1, False) → True\n",
    "    Test case 2 pos_neg(-1, 1, False) → True\n",
    "    Test case 3 pos_neg(-4, -5, True) → True\n",
    "    Test case 4 pos_neg(-1,  1, true) → False\n",
    "    Test case 5 pos_neg( 1,  1, true) → False\n",
    "    Test case 6 pos_neg(-1, -1, False) → False"
   ]
  },
  {
   "cell_type": "code",
   "execution_count": 6,
   "metadata": {},
   "outputs": [
    {
     "name": "stdout",
     "output_type": "stream",
     "text": [
      "True\n",
      "True\n",
      "True\n",
      "False\n",
      "False\n",
      "False\n"
     ]
    }
   ],
   "source": [
    "def pos_neg(n1,n2,b):\n",
    "    return (n1>0 and n2<0 and b==False) or (n1<0 and n2>0 and b==False) or (n1<0 and n2<0 and b==True)\n",
    "    \n",
    "print(pos_neg(1, -1, False))\n",
    "print(pos_neg(-1, 1, False))\n",
    "print(pos_neg(-4, -5, True))\n",
    "print(pos_neg(-1,  1, True))\n",
    "print(pos_neg( 1,  1, True))\n",
    "print(pos_neg(-1, -1, False))\n",
    "    "
   ]
  },
  {
   "cell_type": "markdown",
   "metadata": {},
   "source": [
    "## Problem 2\n",
    "\n",
    "### Problem statement\n",
    "Given 2 ints, a and b, return True if one if them is 10 or if their sum is 10.\n",
    "\n",
    "\n",
    "### Constraints\n",
    "    1st parameter-any integer\n",
    "    2nd parameter-any integer\n",
    "\n",
    "### Test cases\n",
    "    Test case 1 - makes10(9, 10) → True  \n",
    "    Test case 2 - makes10(9, 9) → False  \n",
    "    Test case 3 - makes10(1, 9) → True \n"
   ]
  },
  {
   "cell_type": "code",
   "execution_count": 190,
   "metadata": {},
   "outputs": [
    {
     "name": "stdout",
     "output_type": "stream",
     "text": [
      "True\n",
      "False\n",
      "True\n"
     ]
    }
   ],
   "source": [
    "def makes10(a,b):\n",
    "    if(a==10 or b==10 or a+b==10):\n",
    "        return True\n",
    "    return False\n",
    "print(makes10(9,10))\n",
    "print(makes10(9,9))\n",
    "print(makes10(1,9))"
   ]
  },
  {
   "cell_type": "markdown",
   "metadata": {},
   "source": [
    "## Problem 3\n",
    "\n",
    "### Problem statement \n",
    "Create a Random Number Generator as a Procedure which takes the Range(lb, ub) and returns a Random number in the given range.\n",
    "\n",
    "### Test cases\n",
    "    Test case 1- randomGenerator(1,100)-will be in range (1,100)"
   ]
  },
  {
   "cell_type": "code",
   "execution_count": 162,
   "metadata": {},
   "outputs": [
    {
     "data": {
      "text/plain": [
       "83"
      ]
     },
     "execution_count": 162,
     "metadata": {},
     "output_type": "execute_result"
    }
   ],
   "source": [
    "import random\n",
    "def randomGenerator(lb,ub):\n",
    "    return random.randrange(lb+1,ub)\n",
    "randomGenerator(1,101)\n"
   ]
  },
  {
   "cell_type": "markdown",
   "metadata": {},
   "source": [
    "## Problem 4\n",
    "### Problem statement\n",
    "Given an integer N,calculate the sum of N random numbers in rang [0,100000000000000)\n",
    "\n",
    "\n",
    "\n",
    "    "
   ]
  },
  {
   "cell_type": "code",
   "execution_count": 174,
   "metadata": {},
   "outputs": [
    {
     "data": {
      "text/plain": [
       "47973403458910846378244"
      ]
     },
     "execution_count": 174,
     "metadata": {},
     "output_type": "execute_result"
    }
   ],
   "source": [
    "import random\n",
    "def sumRandomNumbers(n,lb,ub):\n",
    "    sum=0\n",
    "    for count in range(1,n+1):\n",
    "        sum=sum+random.randint(lb,ub)\n",
    "    return sum\n",
    "sumRandomNumbers(100,100,1000000000000000000000)\n",
    "        "
   ]
  },
  {
   "cell_type": "markdown",
   "metadata": {},
   "source": [
    "## Problem 5\n",
    "### Problem statement\n",
    "Design a procedure to perform Linear search on list of N unsorted unique numbers. It take an array and the key element to be searched and returns the index of the element of key element if found. Else returns -1.\n",
    "\n",
    "\n",
    "### Test cases\n",
    "    Test case 1-LinearSearch( a[5,4,3,2,1], 4) -> 2\n",
    "    Test case 2-LinearSearch( a[90, 123, 324, 21, 56], 22) -> -1\n",
    "    \n",
    "    "
   ]
  },
  {
   "cell_type": "code",
   "execution_count": 187,
   "metadata": {},
   "outputs": [
    {
     "name": "stdout",
     "output_type": "stream",
     "text": [
      "-1\n",
      "2\n"
     ]
    }
   ],
   "source": [
    "a=[1,4,8,0,3,5,6]\n",
    "def linearSearch(a,key):\n",
    "    for i in range(0,len(a)):\n",
    "        if(a[i]==key):\n",
    "            return i\n",
    "    return -1\n",
    "print(linearSearch([15,12,9,6,3,-3],0))\n",
    "print(linearSearch([321,543,567,789],567))\n",
    "                   "
   ]
  },
  {
   "cell_type": "markdown",
   "metadata": {},
   "source": [
    "## Problem 6\n",
    "\n",
    "### Problem statement\n",
    "Determining whether a number is Even or Odd\n",
    "\n",
    "### Test Cases\n",
    "    Test Case 1-evenodd(2)->Even\n",
    "    Test case 2->evenodd(3)->odd\n"
   ]
  },
  {
   "cell_type": "code",
   "execution_count": 200,
   "metadata": {},
   "outputs": [
    {
     "name": "stdout",
     "output_type": "stream",
     "text": [
      "Even\n",
      "Odd\n"
     ]
    }
   ],
   "source": [
    "def evenodd(n1):\n",
    "    if(n1%2==0):\n",
    "        return ('Even')\n",
    "    return ('Odd')\n",
    "print(evenodd(2))\n",
    "print(evenodd(3))"
   ]
  },
  {
   "cell_type": "markdown",
   "metadata": {},
   "source": [
    "## Problem 7\n",
    "\n",
    "### Problem statement \n",
    "f(x)= x^3 + 2 X^2 + 3 X - 10 for x in the range [1, 1000]\n",
    "\n",
    "### Test cases\n",
    "    x=1->f(x)=-4\n",
    "\n"
   ]
  },
  {
   "cell_type": "code",
   "execution_count": 219,
   "metadata": {},
   "outputs": [
    {
     "name": "stdout",
     "output_type": "stream",
     "text": [
      "516\n",
      "137922146\n"
     ]
    }
   ],
   "source": [
    "import random\n",
    "def poly():\n",
    "    x=random.randint(1,1000)\n",
    "    n=x**3+2*x**2+3*x-10\n",
    "    print (x)\n",
    "    return n\n",
    "print(poly())\n",
    "\n"
   ]
  },
  {
   "cell_type": "markdown",
   "metadata": {},
   "source": [
    "## Problem 8\n",
    "\n",
    "### Problem statement \n",
    "Finding the greatest of 3 numbers\n",
    "\n",
    "     \n",
    "\n",
    "### Test cases\n",
    "    Test case 1 - gre(2,3,4)->4\n",
    "    Test case 2 - gre(1,4,10)->10"
   ]
  },
  {
   "cell_type": "code",
   "execution_count": 224,
   "metadata": {},
   "outputs": [
    {
     "name": "stdout",
     "output_type": "stream",
     "text": [
      "4\n",
      "10\n"
     ]
    }
   ],
   "source": [
    "def gre(n1,n2,n3):\n",
    "    if(n1>n2 and n1>n3):\n",
    "        return n1\n",
    "    elif(n2>n1 and n2>n3):\n",
    "        return n2\n",
    "    elif(n3>n1 and n3>n2):\n",
    "        return n3\n",
    "print(gre(2,3,4))\n",
    "print(gre(1,4,10))"
   ]
  },
  {
   "cell_type": "markdown",
   "metadata": {},
   "source": [
    "## Problem 9\n",
    "\n",
    "### Problem statement \n",
    "\n",
    "Given an int n, return True if it is within 10 of 100 or 200. Note: abs(num) computes the absolute value of a number.\n",
    "\n",
    "### Test cases\n",
    "    Test case 1 - near_hundred(93) → True\n",
    "    Test case 2 - near_hundred(90) → True\n",
    "    Test case 3 - near_hundred(89) → False\n",
    "   "
   ]
  },
  {
   "cell_type": "code",
   "execution_count": 232,
   "metadata": {},
   "outputs": [
    {
     "name": "stdout",
     "output_type": "stream",
     "text": [
      "True\n",
      "True\n",
      "False\n",
      "False\n"
     ]
    }
   ],
   "source": [
    "def near_hundred(n):\n",
    "    if ((abs(n)>89 and abs(n)<101) or (abs(n)>189 and abs(n)<201)):\n",
    "        return True\n",
    "    return False\n",
    "print(near_hundred(93))\n",
    "print(near_hundred(90))\n",
    "print(near_hundred(89))\n",
    "print(near_hundred(189))"
   ]
  },
  {
   "cell_type": "markdown",
   "metadata": {},
   "source": [
    "## Problem 10\n",
    "\n",
    "### Problem statement \n",
    "Designing procedures for Basic Arithmetic operations\n",
    "\n",
    "### Test cases\n",
    "    Test case 1 - a+b\n",
    "    Test case 2 - b-a\n",
    "    Test case 3 - a*b \n",
    "    Test case 4 - a/b\n",
    "    Test case 5 - a%b\n",
    " "
   ]
  },
  {
   "cell_type": "code",
   "execution_count": 235,
   "metadata": {},
   "outputs": [
    {
     "name": "stdout",
     "output_type": "stream",
     "text": [
      "8\n",
      "4\n",
      "12\n",
      "0.3333333333333333\n",
      "2\n",
      "None\n"
     ]
    }
   ],
   "source": [
    "def ops(a,b):\n",
    "    print(a+b)\n",
    "    print(b-a)\n",
    "    print(a*b)\n",
    "    print(a/b)\n",
    "    print(a%b)\n",
    "print(ops(2,6))"
   ]
  },
  {
   "cell_type": "markdown",
   "metadata": {},
   "source": [
    "## Problem 11\n",
    "\n",
    "\n",
    "### Problem statement \n",
    "Procedure to print N natural numbers.\n",
    "\n",
    "### Test cases\n",
    "    Test case 1 - natural(10)->1,2,3,4,5,6,7,8,9,10\n"
   ]
  },
  {
   "cell_type": "code",
   "execution_count": 284,
   "metadata": {},
   "outputs": [
    {
     "name": "stdout",
     "output_type": "stream",
     "text": [
      "Natural numbers are\n",
      "1\n",
      "2\n",
      "3\n",
      "4\n",
      "5\n",
      "6\n",
      "7\n",
      "8\n",
      "9\n",
      "10\n",
      " \n"
     ]
    }
   ],
   "source": [
    "def natural(n):\n",
    "    x=1\n",
    "    print('Natural numbers are')\n",
    "    for x in range(1,n+1):\n",
    "         print(x)\n",
    "    return \" \"\n",
    "print(natural(10))    "
   ]
  },
  {
   "cell_type": "markdown",
   "metadata": {},
   "source": [
    "## Problem 12\n",
    "\n",
    "### Problem statement \n",
    "\n",
    "Procedure to calculate the factorial of a given number.\n",
    "\n",
    "### Test cases\n",
    "    Test case 1 -> fact(3)=6\n",
    "    Test case 2 -> fact(4)=24\n",
    "  "
   ]
  },
  {
   "cell_type": "code",
   "execution_count": null,
   "metadata": {},
   "outputs": [],
   "source": [
    "def fact(n):\n",
    "     fact=1\n",
    "      i=1\n",
    "    "
   ]
  }
 ],
 "metadata": {
  "kernelspec": {
   "display_name": "Python 3",
   "language": "python",
   "name": "python3"
  },
  "language_info": {
   "codemirror_mode": {
    "name": "ipython",
    "version": 3
   },
   "file_extension": ".py",
   "mimetype": "text/x-python",
   "name": "python",
   "nbconvert_exporter": "python",
   "pygments_lexer": "ipython3",
   "version": "3.7.3"
  }
 },
 "nbformat": 4,
 "nbformat_minor": 2
}
