{
 "cells": [
  {
   "cell_type": "markdown",
   "metadata": {},
   "source": [
    "# PROBLEM SOLVING AND PROGRAMMING\n",
    "\n",
    "# Koduganti Lakshmi Bhargavi\n",
    "\n",
    "# 2210416133 \n",
    "\n",
    "## Day no. 12\n",
    "\n",
    "## Date 10th May 2019\n",
    "\n",
    "### Day outcomes\n",
    "      1. Objective 1\n",
    "      2. Objective 2\n",
    "      3. Objective 3\n"
   ]
  },
  {
   "cell_type": "markdown",
   "metadata": {},
   "source": [
    "## Problem 1\n",
    "\n",
    "### Problem statement \n",
    "\n",
    "\n",
    "### Constraints \n",
    "  \n",
    "### Test cases\n",
    "    Test case 1 \n",
    "    Test case 2 \n",
    "    Test case 3\n",
    "   "
   ]
  },
  {
   "cell_type": "markdown",
   "metadata": {},
   "source": [
    "## Problem 1\n",
    " \n",
    "\n",
    "### Problem statement \n",
    "\n",
    " Procedure to generate multiplication tables. \n",
    "\n",
    "  \n",
    "### Test cases\n",
    "    Test case 1 \n",
    "     MT(3, 5, 7) -> 3 X 5 = 15\n",
    "\n",
    "                    3 X 6 = 18\n",
    "\n",
    "                    3 X 7 = 21\n",
    "    "
   ]
  },
  {
   "cell_type": "code",
   "execution_count": 16,
   "metadata": {},
   "outputs": [
    {
     "name": "stdout",
     "output_type": "stream",
     "text": [
      "3 X 5 = 15\n",
      "3 X 6 = 18\n",
      "3 X 7 = 21\n",
      "\n"
     ]
    }
   ],
   "source": [
    "def MT(table,lb,ub):\n",
    "    for count in range(lb,ub+1):\n",
    "        print(table,'X',count,'=',table*count)\n",
    "    return ''\n",
    "print(MT(3,5,7))     "
   ]
  },
  {
   "cell_type": "markdown",
   "metadata": {},
   "source": [
    "## Problem 2\n",
    "\n",
    "### Problem statement\n",
    "Power of a number using recursion.\n",
    "\n",
    "### Test cases\n",
    "     Test case 1- recursivePower(2,10)->1024\n",
    "     Test case 2- recursivePower(2,3)->8"
   ]
  },
  {
   "cell_type": "code",
   "execution_count": 5,
   "metadata": {},
   "outputs": [
    {
     "name": "stdout",
     "output_type": "stream",
     "text": [
      "1024\n",
      "8\n"
     ]
    }
   ],
   "source": [
    "def recursivePower(n,r):\n",
    "    if r==1:\n",
    "        return n\n",
    "    else:\n",
    "        return recursivePower(n,r-1)*n\n",
    "       \n",
    "        \n",
    "print(recursivePower(2,10))\n",
    "  \n",
    "print(recursivePower(2,3))"
   ]
  },
  {
   "cell_type": "markdown",
   "metadata": {},
   "source": [
    "## Problem 3\n",
    "\n",
    "To find the factorial of a given number using recursion\n",
    "\n",
    "\n",
    "### Test cases\n",
    "    Test case 1 ->recursiveFactorial(5)=120\n",
    "    Test case 2 ->recursiveFactorial(3)->6   "
   ]
  },
  {
   "cell_type": "code",
   "execution_count": 14,
   "metadata": {},
   "outputs": [
    {
     "name": "stdout",
     "output_type": "stream",
     "text": [
      "120\n",
      "6\n"
     ]
    }
   ],
   "source": [
    "def recursiveFactorial(n):\n",
    "    if n==1:\n",
    "        return n\n",
    "    else:\n",
    "        return recursiveFactorial(n-1)*n\n",
    "print(recursiveFactorial(5))\n",
    "print(recursiveFactorial(3))\n",
    "    "
   ]
  },
  {
   "cell_type": "markdown",
   "metadata": {},
   "source": [
    "## Problem 4\n",
    "\n",
    "### Problem statement \n",
    "GCD of a number using recursion.\n",
    "\n",
    "### Test cases\n",
    "    Test case 1 (gcdRecursion(12,42))=6\n",
    "    Test case 2 (gcdRecursion(12,39))=3\n",
    "    Test case 3 (gcdRecursion(12,39))=6\n",
    "   \n",
    "   \n",
    "   "
   ]
  },
  {
   "cell_type": "code",
   "execution_count": 21,
   "metadata": {},
   "outputs": [
    {
     "name": "stdout",
     "output_type": "stream",
     "text": [
      "6\n",
      "3\n",
      "6\n"
     ]
    }
   ],
   "source": [
    "#Gcd remains the same when the smaller parameter is reduced to the remainder\n",
    "#the larger parameter is relaced by smaller parameter.\n",
    "#GCD(a,b)=GCD(b%a,a)\n",
    "def gcdRecursion(a,b):\n",
    "    if b%a==0:\n",
    "        return a\n",
    "    else:\n",
    "        return gcdRecursion(b%a,a)\n",
    "print(gcdRecursion(12,42))\n",
    "print(gcdRecursion(12,39))\n",
    "print(gcdRecursion(6,12))"
   ]
  },
  {
   "cell_type": "code",
   "execution_count": 37,
   "metadata": {},
   "outputs": [
    {
     "name": "stdout",
     "output_type": "stream",
     "text": [
      "6\n",
      "3\n",
      "6\n"
     ]
    }
   ],
   "source": [
    "#Iterative solution\n",
    "def gcdIterative(a,b):\n",
    "    r=b%a\n",
    "    if(r==0):\n",
    "        return a\n",
    "    while r!=0:\n",
    "        r=b%a\n",
    "        b=a\n",
    "        a=r\n",
    "    return b\n",
    "print(gcdIterative(12,42))\n",
    "print(gcdIterative(12,39))\n",
    "print(gcdIterative(6,12))"
   ]
  },
  {
   "cell_type": "code",
   "execution_count": null,
   "metadata": {},
   "outputs": [],
   "source": []
  },
  {
   "cell_type": "markdown",
   "metadata": {},
   "source": [
    "## Problem 5\n",
    "\n",
    "### Problem statement \n",
    "TO write a program that gives the procedure to complete towers of Hanoi in minimum number of moves.\n",
    " \n",
    "  \n",
    "### Test cases\n",
    "    Test case 1 \n",
    "    Test case 2 \n",
    "    Test case 3\n",
    "   \n",
    "\n",
    "#### Explanation\n",
    "n disks---->Move n-1 disks from source to temporary\n",
    "            Move nth disk from source to destination\n",
    "3 disks---->move 2 disks from source to temporary\n",
    "            Move 3rd dsk from source to destination\n",
    "            move 2 disks from temporary to destination\n",
    "        "
   ]
  },
  {
   "cell_type": "code",
   "execution_count": 59,
   "metadata": {},
   "outputs": [
    {
     "name": "stdout",
     "output_type": "stream",
     "text": [
      "Move 1 disk from A to B\n",
      "Move 2 disk from A to C\n",
      "Move 1 disk from B to C\n",
      "Move 3 disk from A to B\n",
      "Move 1 disk from C to A\n",
      "Move 2 disk from C to B\n",
      "Move 1 disk from A to B\n",
      "Move 4 disk from A to C\n",
      "Move 1 disk from B to C\n",
      "Move 2 disk from B to A\n",
      "Move 1 disk from C to A\n",
      "Move 3 disk from B to C\n",
      "Move 1 disk from A to B\n",
      "Move 2 disk from A to C\n",
      "Move 1 disk from B to C\n"
     ]
    }
   ],
   "source": [
    "def towerofHanoi(n,source,temp,dest):\n",
    "    if n ==1:\n",
    "        print('Move',n,'disk from',source,'to',dest)\n",
    "        return\n",
    "    else:\n",
    "        towerofHanoi(n-1,source,dest ,temp)\n",
    "        print('Move',n,'disk from',source,'to',dest)\n",
    "        towerofHanoi(n-1,temp,source,dest)\n",
    "        return\n",
    "towerofHanoi(4,'A','B','C')"
   ]
  },
  {
   "cell_type": "markdown",
   "metadata": {},
   "source": [
    "## Problem 6\n",
    "\n",
    "\n",
    "### Problem statement \n",
    "\n",
    "Procedure to print the list of factors of a given number.\n",
    "\n",
    "\n",
    "\n",
    "### Constraints \n",
    "  \n",
    "### Test cases\n",
    "    Test case 1  FactorList(6)  ->  1 2 3 6\n",
    "    Test case 2  FactorList (9) ->   1 3 9\n",
    "    Test case 3  FactorList (19) ->  1  19\n",
    "\n",
    "   "
   ]
  },
  {
   "cell_type": "code",
   "execution_count": 60,
   "metadata": {},
   "outputs": [
    {
     "name": "stdout",
     "output_type": "stream",
     "text": [
      "1\n",
      "2\n",
      "3\n",
      "6\n",
      "\n",
      "1\n",
      "3\n",
      "9\n",
      "\n",
      "1\n",
      "19\n",
      "\n"
     ]
    }
   ],
   "source": [
    "def Factorlist(n):\n",
    "    for i in range(1,n+1):\n",
    "        if(n%i==0):\n",
    "            print(i)\n",
    "    return ''\n",
    "print(Factorlist(6))\n",
    "print(Factorlist(9))\n",
    "print(Factorlist(19))\n",
    "       "
   ]
  },
  {
   "cell_type": "markdown",
   "metadata": {},
   "source": [
    "## Problem 7\n",
    "\n",
    "### Problem statement \n",
    "Procedure to check if a given number is Prime and returns a Boolean value.\n",
    "\n",
    "  \n",
    "### Test cases\n",
    "    Test case 1 IsPrime(7) -> True\n",
    "    Test case 2  IsPrime(9) ->  False\n",
    "   "
   ]
  },
  {
   "cell_type": "code",
   "execution_count": null,
   "metadata": {},
   "outputs": [],
   "source": [
    "def IsPrime(n):\n",
    "    if(n)"
   ]
  }
 ],
 "metadata": {
  "kernelspec": {
   "display_name": "Python 3",
   "language": "python",
   "name": "python3"
  },
  "language_info": {
   "codemirror_mode": {
    "name": "ipython",
    "version": 3
   },
   "file_extension": ".py",
   "mimetype": "text/x-python",
   "name": "python",
   "nbconvert_exporter": "python",
   "pygments_lexer": "ipython3",
   "version": "3.7.3"
  }
 },
 "nbformat": 4,
 "nbformat_minor": 2
}
