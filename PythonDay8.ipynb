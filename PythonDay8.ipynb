{
 "cells": [
  {
   "cell_type": "markdown",
   "metadata": {},
   "source": [
    "# PROBLEM SOLVING AND PROGRAMMING\n",
    "## Koduganti Lakshmi Bhargavi\n",
    "## Day no. 16\n",
    "## Date 15th May 2019"
   ]
  },
  {
   "cell_type": "markdown",
   "metadata": {},
   "source": [
    "# Problem 1\n",
    "\n",
    "## Problem statement\n",
    "to print factorial using modules and packages\n",
    "\n",
    "## Test cases\n",
    "    Test case 1-factorial(6)->720\n",
    "    "
   ]
  },
  {
   "cell_type": "code",
   "execution_count": 2,
   "metadata": {},
   "outputs": [
    {
     "data": {
      "text/plain": [
       "720"
      ]
     },
     "execution_count": 2,
     "metadata": {},
     "output_type": "execute_result"
    }
   ],
   "source": [
    "from test import factorial\n",
    "factorial(6)"
   ]
  },
  {
   "cell_type": "markdown",
   "metadata": {},
   "source": [
    "# Problem 2\n",
    "\n",
    "## Problem statement\n",
    "to print factorial and sum using \n",
    "\n",
    "## Test cases\n",
    "    Test case 1-factorial(6)->720\n",
    "    Test case 2-sum(5)->15\n",
    "    "
   ]
  },
  {
   "cell_type": "code",
   "execution_count": 5,
   "metadata": {},
   "outputs": [
    {
     "name": "stdout",
     "output_type": "stream",
     "text": [
      "720\n",
      "15\n"
     ]
    }
   ],
   "source": [
    "import test\n",
    "print(test.factorial(6))\n",
    "print(test.sum(5))\n"
   ]
  },
  {
   "cell_type": "markdown",
   "metadata": {},
   "source": [
    "# Problem 3\n",
    "\n",
    "\n",
    "## Problem statement\n",
    "To verify regular expressions.\n"
   ]
  },
  {
   "cell_type": "code",
   "execution_count": 8,
   "metadata": {},
   "outputs": [
    {
     "name": "stdout",
     "output_type": "stream",
     "text": [
      "Does not match\n"
     ]
    }
   ],
   "source": [
    "import re\n",
    "pattern='^[a-z]{2,9}$'\n",
    "domain='g'\n",
    "if re.match(pattern,domain):\n",
    "    print('Match')\n",
    "else:\n",
    "    print('Does not match')"
   ]
  },
  {
   "cell_type": "markdown",
   "metadata": {},
   "source": [
    "# Problem 4\n",
    "\n",
    "## Problem statement\n",
    "To print a phone number using regular expressions\n",
    "\n",
    "## Test Cases\n",
    "    Test case 1-+919885113230->Match\n",
    "    Test case 2-+9886736740->Not match"
   ]
  },
  {
   "cell_type": "code",
   "execution_count": 9,
   "metadata": {},
   "outputs": [
    {
     "name": "stdout",
     "output_type": "stream",
     "text": [
      "enter your domain number+919885113230\n",
      "match\n"
     ]
    }
   ],
   "source": [
    "import re\n",
    "pattern='^[+][9][1][0-9]{10}$'\n",
    "domain=input('enter your domain number')\n",
    "if re.match(pattern,domain):\n",
    "    print('match')\n",
    "else:\n",
    "    print('not match')"
   ]
  },
  {
   "cell_type": "markdown",
   "metadata": {},
   "source": [
    "# Problem 5\n",
    "\n",
    "## Problem statement\n",
    "To print a postal code using regular expressions\n",
    "\n",
    "\n",
    "\n",
    "## Test Cases\n",
    "    Test case 1-500050->Match"
   ]
  },
  {
   "cell_type": "code",
   "execution_count": 10,
   "metadata": {},
   "outputs": [
    {
     "name": "stdout",
     "output_type": "stream",
     "text": [
      "Enter your domain number5000055\n",
      "not match\n"
     ]
    }
   ],
   "source": [
    "import re\n",
    "pattern='^[1-9][0-9]{5}$'\n",
    "domain=input('Enter your domain number')\n",
    "if re.match(pattern,domain):\n",
    "    print('match')\n",
    "else:\n",
    "    print('not match')\n",
    "    \n",
    "    "
   ]
  },
  {
   "cell_type": "markdown",
   "metadata": {},
   "source": [
    "# Problem 6\n",
    "\n",
    "## Problem statement\n",
    "To verify an email address using regular expressions\n",
    "\n",
    "## Test Cases\n",
    "    Test case 1-baagi100@gmail.com->Match"
   ]
  },
  {
   "cell_type": "code",
   "execution_count": 12,
   "metadata": {},
   "outputs": [
    {
     "name": "stdout",
     "output_type": "stream",
     "text": [
      "Enter your domain valuevaishu98@gmail.com\n",
      "Match\n"
     ]
    }
   ],
   "source": [
    "import re\n",
    "pattern='^[a-z][a-z0-9_-]{5,13}[a-z0-9][@][0-9a-z]{3,9}[.][a-z]{2,3}$'\n",
    "domain=input('Enter your domain value')\n",
    "if re.match(pattern,domain):\n",
    "    print('Match')\n",
    "else:\n",
    "    print('not match')"
   ]
  }
 ],
 "metadata": {
  "kernelspec": {
   "display_name": "Python 3",
   "language": "python",
   "name": "python3"
  },
  "language_info": {
   "codemirror_mode": {
    "name": "ipython",
    "version": 3
   },
   "file_extension": ".py",
   "mimetype": "text/x-python",
   "name": "python",
   "nbconvert_exporter": "python",
   "pygments_lexer": "ipython3",
   "version": "3.7.3"
  }
 },
 "nbformat": 4,
 "nbformat_minor": 2
}
